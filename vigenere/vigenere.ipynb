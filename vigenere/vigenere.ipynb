{
 "cells": [
  {
   "cell_type": "markdown",
   "metadata": {},
   "source": [
    "**Dimas Tri Mustakim**\n",
    "\n",
    "**205150200111049**"
   ]
  },
  {
   "cell_type": "markdown",
   "metadata": {},
   "source": [
    "# Vigenere Cipher\n",
    "\n",
    "Vigenere cipher merupakan teknik kriptografi klasik yang menggunakan Vigenere Table untuk melakukan enkripsi maupun dekripsi. Tabel tersebut berisi baris yang berisi 26 huruf (27 jika ditambah spasi). Mulai dari baris kedua, setiap huruf akan digeser ke kiri sebanyak satu posisi. Contohnya dari tabel Vigenere adalah seperti berikut.\n",
    "\n",
    "![Vigenere Table](Vigenere_Table.jpg)\n"
   ]
  },
  {
   "cell_type": "markdown",
   "metadata": {},
   "source": [
    "### Teknik Enkripsi\n",
    "\n",
    "Untuk melakukan enkripsi pada plaintext, vigenere juga membutuhkan kunci. Kunci akan diulangi sehingga panjangnya sama dengan panjang plaintext. Setiap karakter pada plaintext akan dienkripsi dengan karakter pada kunci yang berada pada posisi yang sama. Setelah itu, karakter pada plaintext akan diganti dengan karakter pada tabel Vigenere yang berada pada baris yang sama dengan karakter pada kunci dan kolom yang sama dengan karakter pada plaintext. \n",
    "\n",
    "##### Contoh\n",
    "\n",
    "Plaintext : **MICHIGAN**\n",
    "\n",
    "Kunci : **HOUGHTON**\n",
    "\n",
    "Huruf **M** dipasangkan dengan kunci **H**, sehingga huruf cipher-nya adalah **T**. Seperti gambar berikut.\n",
    "\n",
    "![Vigenere Example ](./Vigenere_Table1.jpg)\n",
    "\n",
    "Dan langkah ini diulangi untuk setiap karakter pada plaintext."
   ]
  },
  {
   "cell_type": "markdown",
   "metadata": {},
   "source": [
    "### Dekripsi\n",
    "\n",
    "Untuk mendekripsi, huruf yang ada di ciphertext dipasangkan dengan kuncinya. Kunci tersebut digunakan untuk mencari baris mana yang akan digunakan, dan mencari huruf cipher kemudian plaintextnya ada di heading kolom."
   ]
  },
  {
   "cell_type": "markdown",
   "metadata": {},
   "source": [
    "# Cipher Disk\n",
    "\n",
    "Merupakan alat yang digunakan untuk kriptografi vignere. Ditemukan oleh Leon Battista Alberti, alat ini berupa dua disk konsentris, dengan bagian bawah yang tetap dan bagian atas yang diputar. Terdapat 26 huruf bahasa Inggris ditampilkan di sepanjang perimeter setiap disk. Seseorang dapat memutar disk atas untuk menyelaraskan huruf apa pun dengan huruf A di disk bawah. Plaintext dan ciphertext masing-masing menggunakan huruf pada disk bawah dan atas. Alat ini menggunakan disk yang dapat diputar untuk menggantikan tabel besar yang membuatnya lebih praktis untuk digunakan.\n",
    "\n",
    "![Vigenere Disk](Vigenere_Disk.jpg)\n",
    "\n",
    "Untuk menggunakan cipher disk, putar disk atas sehingga huruf kata kunci yang digunakan sejajar dengan huruf A pada disk bawah, dan huruf plaintext dan ciphertext yang sesuai berada di disk bawah dan atas. Penyelarasan huruf tersebut dapat disamakan dengan mengeser baris pada tabel vigenere ke bawah. Misalnya, jika H sejajar dengan A, maka sama saja dengan menggunakan baris H pada tabel cipher."
   ]
  },
  {
   "cell_type": "markdown",
   "metadata": {},
   "source": [
    "# Implementasi Program\n",
    "\n",
    "Pada implementasi program, saya menggunakan prinsip pada cipher disk seperti diatas untuk melakukan enkripsi dan dekripsi. Prinsip yang digunakan adalah untuk mensejajarkan huruf pada plaintext dan ciphertext."
   ]
  },
  {
   "cell_type": "code",
   "execution_count": 7,
   "metadata": {},
   "outputs": [],
   "source": [
    "class Vigenere:\n",
    "    # Constructor, menerima input berupaa alfabet yang ingin digunakan\n",
    "    def __init__(self, alfabet='abcdefghijklmnopqrstuvwxyz '):\n",
    "        self.alfabet = alfabet\n",
    "\n",
    "    # Fungsi private yang digunakan untuk enkripsi dan dekripsi\n",
    "    def _vigenere(self, text: str, key: str, mode='encrypt'):\n",
    "        cipher_text = ''\n",
    "\n",
    "        # iterasi setiap karakter pada text\n",
    "        for i, c in enumerate(text):\n",
    "\n",
    "            # Mengambil posisi index dari karakter plaintext dan key\n",
    "            # Di variable alfabet. \n",
    "            text_n = self.alfabet.index(c)\n",
    "            key_n = self.alfabet.index(key[i % len(key)])\n",
    "\n",
    "            match mode:\n",
    "                case 'encrypt':\n",
    "                    # Jika enkripsi, maka posisi huruf ciphertext adalah penjumlahan dari index huruf plaintext dan key\n",
    "                    n = (text_n + key_n) % len(self.alfabet)\n",
    "                case 'decrypt':\n",
    "                    # Jika dekripsi, maka pengurangan\n",
    "                    n = (text_n - key_n) % len(self.alfabet)\n",
    "                case other:\n",
    "                    raise Exception(\n",
    "                        \"parameter mode should only contain 'encrypt' or 'decrypt'\")\n",
    "\n",
    "            cipher_text += self.alfabet[n]\n",
    "\n",
    "        return cipher_text\n",
    "    \n",
    "    def encrypt(self, text: str, key: str):\n",
    "        return self._vigenere(text, key, 'encrypt')\n",
    "\n",
    "    def decrypt(self, text: str, key: str):\n",
    "        return self._vigenere(text, key, 'decrypt')\n"
   ]
  },
  {
   "cell_type": "markdown",
   "metadata": {},
   "source": [
    "# Eksekusi"
   ]
  },
  {
   "cell_type": "code",
   "execution_count": 9,
   "metadata": {},
   "outputs": [
    {
     "name": "stdout",
     "output_type": "stream",
     "text": [
      "chiper_text: nzupknzhieudiapcws\n",
      "deciphered:  dimas tri mustakim\n"
     ]
    }
   ],
   "source": [
    "key = 'kriptografi'\n",
    "plain_text = 'dimas tri mustakim'\n",
    "\n",
    "vigenere = Vigenere()\n",
    "cipher_text = vigenere.encrypt(plain_text, key)\n",
    "deciphered = vigenere.decrypt(cipher_text, key)\n",
    "\n",
    "print('chiper_text:', cipher_text)\n",
    "print('deciphered: ', deciphered)"
   ]
  },
  {
   "cell_type": "code",
   "execution_count": 11,
   "metadata": {},
   "outputs": [
    {
     "name": "stdout",
     "output_type": "stream",
     "text": [
      "chiper_text: TWWNPZOAASWNUHZBNWWGSNBVCSLYPMM\n",
      "deciphered:  MICHIGANTECHNOLOGICALUNIVERSITY\n"
     ]
    }
   ],
   "source": [
    "# Contoh pada kasus di website https://pages.mtu.edu/\n",
    "\n",
    "alfabet_caps = 'ABCDEFGHIJKLMNOPQRSTUVWXYZ'\n",
    "plain_text = 'MICHIGANTECHNOLOGICALUNIVERSITY'\n",
    "key = 'HOUGHTON'\n",
    "\n",
    "vigenere = Vigenere(alfabet_caps)\n",
    "cipher_text = vigenere.encrypt(plain_text, key)\n",
    "deciphered = vigenere.decrypt(cipher_text, key)\n",
    "\n",
    "print('chiper_text:', cipher_text)\n",
    "print('deciphered: ', deciphered)"
   ]
  },
  {
   "cell_type": "code",
   "execution_count": 12,
   "metadata": {},
   "outputs": [
    {
     "name": "stdout",
     "output_type": "stream",
     "text": [
      "chiper_text:  hxRh03e}W&;Z$R[ygB!LyK7z^V$gG'P1xh%eV{Q`4c1]#C#t-gA]41]#F\"*@y#DwB\\#E*\n",
      "deciphered:  Tugas Kriptografi Oleh Dimas Tri Mustakim | 2022 | NIM 205150200111049\n"
     ]
    }
   ],
   "source": [
    "# Eksekusi menggunakan tabel yang berisi karakter ascii\n",
    "ascii = ' !\"#$%&\\'()*+,-./0123456789:;<=>?@ABCDEFGHIJKLMNOPQRSTUVWXYZ[\\\\]^_`abcdefghijklmnopqrstuvwxyz{|}~'\n",
    "plain_text = 'Tugas Kriptografi Oleh Dimas Tri Mustakim | 2022 | NIM 205150200111049'\n",
    "key = 'Kr1pt0gr4f1'\n",
    "\n",
    "vigenere = Vigenere(ascii)\n",
    "cipher_text = vigenere.encrypt(plain_text, key)\n",
    "deciphered = vigenere.decrypt(cipher_text, key)\n",
    "\n",
    "print('chiper_text:', cipher_text)\n",
    "print('deciphered: ', deciphered)"
   ]
  },
  {
   "cell_type": "markdown",
   "metadata": {},
   "source": [
    "# Daftar Pustaka\n",
    "\n",
    "https://pages.mtu.edu/~shene/NSF-4/Tutorial/VIG/Vig-Base.html\n",
    "\n",
    "https://pages.mtu.edu/~shene/NSF-4/Tutorial/VIG/Vig-Devices.html"
   ]
  }
 ],
 "metadata": {
  "kernelspec": {
   "display_name": "Python 3.10.6 64-bit",
   "language": "python",
   "name": "python3"
  },
  "language_info": {
   "codemirror_mode": {
    "name": "ipython",
    "version": 3
   },
   "file_extension": ".py",
   "mimetype": "text/x-python",
   "name": "python",
   "nbconvert_exporter": "python",
   "pygments_lexer": "ipython3",
   "version": "3.10.7"
  },
  "orig_nbformat": 4,
  "vscode": {
   "interpreter": {
    "hash": "e7370f93d1d0cde622a1f8e1c04877d8463912d04d973331ad4851f04de6915a"
   }
  }
 },
 "nbformat": 4,
 "nbformat_minor": 2
}
